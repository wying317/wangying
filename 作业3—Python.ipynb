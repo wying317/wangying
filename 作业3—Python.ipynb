{
 "cells": [
  {
   "cell_type": "code",
   "execution_count": 1,
   "metadata": {},
   "outputs": [
    {
     "name": "stdout",
     "output_type": "stream",
     "text": [
      "a-b= 5\n",
      "a+b= 15\n",
      "a*b= 50\n",
      "a/b= 2.0\n",
      "a%b= 0\n",
      "a//b= 2\n",
      "a的平方是 100\n",
      "b的平方是 25\n"
     ]
    },
    {
     "data": {
      "text/plain": [
       "<__main__.Student at 0x2771eb31438>"
      ]
     },
     "execution_count": 1,
     "metadata": {},
     "output_type": "execute_result"
    }
   ],
   "source": [
    "#object 不是一个参数\n",
    "class Student(object):\n",
    "    def __init__(self,a,b):\n",
    "        print('a-b=',a-b);\n",
    "        print('a+b=',a+b);\n",
    "        print('a*b=',a*b);\n",
    "        print('a/b=',a/b);\n",
    "        print('a%b=',a%b);\n",
    "        print('a//b=',a//b);\n",
    "        print('a的平方是',a*a);\n",
    "        print('b的平方是',b*b);\n",
    "Student(10,5)"
   ]
  },
  {
   "cell_type": "code",
   "execution_count": null,
   "metadata": {},
   "outputs": [],
   "source": []
  },
  {
   "cell_type": "code",
   "execution_count": null,
   "metadata": {},
   "outputs": [],
   "source": []
  }
 ],
 "metadata": {
  "kernelspec": {
   "display_name": "Python 3",
   "language": "python",
   "name": "python3"
  },
  "language_info": {
   "codemirror_mode": {
    "name": "ipython",
    "version": 3
   },
   "file_extension": ".py",
   "mimetype": "text/x-python",
   "name": "python",
   "nbconvert_exporter": "python",
   "pygments_lexer": "ipython3",
   "version": "3.7.3"
  }
 },
 "nbformat": 4,
 "nbformat_minor": 2
}
